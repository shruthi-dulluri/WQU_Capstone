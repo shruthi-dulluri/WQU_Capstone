{
  "nbformat": 4,
  "nbformat_minor": 0,
  "metadata": {
    "colab": {
      "provenance": [],
      "authorship_tag": "ABX9TyPxyHS6K38l4NKzXyYQ4W3K",
      "include_colab_link": true
    },
    "kernelspec": {
      "name": "python3",
      "display_name": "Python 3"
    },
    "language_info": {
      "name": "python"
    }
  },
  "cells": [
    {
      "cell_type": "markdown",
      "metadata": {
        "id": "view-in-github",
        "colab_type": "text"
      },
      "source": [
        "<a href=\"https://colab.research.google.com/github/shruthi-dulluri/WQU_Capstone/blob/main/Assignment1.ipynb\" target=\"_parent\"><img src=\"https://colab.research.google.com/assets/colab-badge.svg\" alt=\"Open In Colab\"/></a>"
      ]
    },
    {
      "cell_type": "markdown",
      "source": [
        "### Week1 Assignment- Shruthi Dulluri"
      ],
      "metadata": {
        "id": "1OQkUNemMT0n"
      }
    },
    {
      "cell_type": "markdown",
      "source": [
        "Q1 : Python progarm to input User name and greeting Hello,[name])"
      ],
      "metadata": {
        "id": "CmlmEoFcMk3r"
      }
    },
    {
      "cell_type": "code",
      "source": [
        "name = input(\"Enter your name:\")\n",
        "print(f\"Hello {name}!\")"
      ],
      "metadata": {
        "id": "ezlX4QtOM3fb"
      },
      "execution_count": null,
      "outputs": []
    },
    {
      "cell_type": "markdown",
      "source": [
        "Q2 : Python progam to input age from user and display message"
      ],
      "metadata": {
        "id": "u94lx1gCMPg5"
      }
    },
    {
      "cell_type": "code",
      "source": [
        "Age = input(\"Enter your Age\")\n",
        "print(f\"You are {Age} Years old\")"
      ],
      "metadata": {
        "id": "A0jf0bpjOBqD"
      },
      "execution_count": null,
      "outputs": []
    },
    {
      "cell_type": "markdown",
      "source": [
        "Q3: Python program to take two number inputs form users and calculate there sum"
      ],
      "metadata": {
        "id": "n7xYbhvmMOth"
      }
    },
    {
      "cell_type": "code",
      "source": [
        "num1 =int(input(\"Enter first number : \"))\n",
        "num2 = int (input(\"Enter Second number : \"))\n",
        "print(f\"The sum of two numbers is {num1+num2}\")"
      ],
      "metadata": {
        "id": "ePKRqSzXOhKV"
      },
      "execution_count": null,
      "outputs": []
    },
    {
      "cell_type": "markdown",
      "source": [
        "Q4 :Python program to take a sentence from user and print it capital letters"
      ],
      "metadata": {
        "id": "saGVacQAMMwS"
      }
    },
    {
      "cell_type": "code",
      "source": [
        "sentence = input(\"Enter a sentence\")\n",
        "print(f\"{sentence.upper()}\")"
      ],
      "metadata": {
        "id": "SzUf3vLQP1cG"
      },
      "execution_count": null,
      "outputs": []
    },
    {
      "cell_type": "markdown",
      "source": [
        "Q5: Python program to check wether a string is Palindrome or not"
      ],
      "metadata": {
        "id": "poTOUw6LVnVX"
      }
    },
    {
      "cell_type": "code",
      "source": [
        "def ispalindrome(s):\n",
        "  s = s.lower()\n",
        "  return s == s[::-1]\n",
        "# code \n",
        "s = input(\"Enter a string :\")\n",
        "res = ispalindrome(s)\n",
        "if res:\n",
        "  print(f\"{s} is palindrome\")\n",
        "else:\n",
        "  print(f\"{s} is not palindrome\")\n",
        "\n",
        "\n",
        " "
      ],
      "metadata": {
        "id": "mTTYfb55VzgX"
      },
      "execution_count": null,
      "outputs": []
    },
    {
      "cell_type": "markdown",
      "source": [
        "Q6 : Python program to convert celsius to farenheit"
      ],
      "metadata": {
        "id": "yHwhGfETgk3_"
      }
    },
    {
      "cell_type": "code",
      "source": [
        "celsius = float(input(\"Eenter the temparture in celsius : \"))\n",
        "farenheit = celsius*1.8 +32\n",
        "print(f\"{celsius} degree celsius is {farenheit} f \")"
      ],
      "metadata": {
        "id": "nILZVIJaXB_8"
      },
      "execution_count": null,
      "outputs": []
    },
    {
      "cell_type": "markdown",
      "source": [
        "Q7 : Python program to check wether a number given by user is prime or not"
      ],
      "metadata": {
        "id": "Kecyk7N9hyI7"
      }
    },
    {
      "cell_type": "code",
      "source": [
        "num = int(input(\"Enter a number: \"))\n",
        "if num>1:\n",
        "  for i in range(2,num):\n",
        "    if (num%i)==0:\n",
        "      print(f\"{num} is not a prime number\")\n",
        "      break\n",
        "  else:\n",
        "      print(f\"{num} is a prime number\")\n",
        "else :\n",
        "  print(f\"{num}is neither prime nor composite\")\n"
      ],
      "metadata": {
        "colab": {
          "base_uri": "https://localhost:8080/"
        },
        "id": "VpGVDj3XiRbK",
        "outputId": "54447356-9aa6-49b3-ff66-4a6cceb0b6b4"
      },
      "execution_count": 61,
      "outputs": [
        {
          "output_type": "stream",
          "name": "stdout",
          "text": [
            "Enter a number: 29\n",
            "29 is a prime number\n"
          ]
        }
      ]
    }
  ]
}