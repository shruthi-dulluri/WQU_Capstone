{
  "nbformat": 4,
  "nbformat_minor": 0,
  "metadata": {
    "colab": {
      "provenance": [],
      "authorship_tag": "ABX9TyOGsHEs0JpG6TRjNTHiCz8l",
      "include_colab_link": true
    },
    "kernelspec": {
      "name": "python3",
      "display_name": "Python 3"
    },
    "language_info": {
      "name": "python"
    }
  },
  "cells": [
    {
      "cell_type": "markdown",
      "metadata": {
        "id": "view-in-github",
        "colab_type": "text"
      },
      "source": [
        "<a href=\"https://colab.research.google.com/github/shruthi-dulluri/WQU_Capstone/blob/main/Assignment1shruhi_dulluri.ipynb\" target=\"_parent\"><img src=\"https://colab.research.google.com/assets/colab-badge.svg\" alt=\"Open In Colab\"/></a>"
      ]
    },
    {
      "cell_type": "markdown",
      "source": [
        "### Week1 Assignment- Shruthi Dulluri"
      ],
      "metadata": {
        "id": "1OQkUNemMT0n"
      }
    },
    {
      "cell_type": "markdown",
      "source": [
        "Q1 : Python progarm to input User name and greeting Hello,[name])"
      ],
      "metadata": {
        "id": "CmlmEoFcMk3r"
      }
    },
    {
      "cell_type": "code",
      "source": [
        "name = input(\"Enter your name:\")\n",
        "print(f\"Hello {name}!\")"
      ],
      "metadata": {
        "colab": {
          "base_uri": "https://localhost:8080/"
        },
        "id": "ezlX4QtOM3fb",
        "outputId": "d21067f6-9ee2-4e0d-b70b-24086383a06f"
      },
      "execution_count": 4,
      "outputs": [
        {
          "output_type": "stream",
          "name": "stdout",
          "text": [
            "Enter your name:Shruthi\n",
            "Hello Shruthi!\n"
          ]
        }
      ]
    },
    {
      "cell_type": "markdown",
      "source": [
        "Q2 : Python progam to input age from user and display message"
      ],
      "metadata": {
        "id": "u94lx1gCMPg5"
      }
    },
    {
      "cell_type": "code",
      "source": [
        "Age = input(\"Enter your Age\")\n",
        "print(f\"You are {Age} Years old\")"
      ],
      "metadata": {
        "colab": {
          "base_uri": "https://localhost:8080/"
        },
        "id": "A0jf0bpjOBqD",
        "outputId": "2168e445-ada6-4b6d-908f-5cebd9ab99e3"
      },
      "execution_count": 5,
      "outputs": [
        {
          "output_type": "stream",
          "name": "stdout",
          "text": [
            "Enter your Age40\n",
            "You are 40 Years old\n"
          ]
        }
      ]
    },
    {
      "cell_type": "markdown",
      "source": [
        "Q3: Python program to take two number inputs form users and calculate there sum"
      ],
      "metadata": {
        "id": "n7xYbhvmMOth"
      }
    },
    {
      "cell_type": "code",
      "source": [
        "num1 =int(input(\"Enter first number : \"))\n",
        "num2 = int (input(\"Enter Second number : \"))\n",
        "print(f\"The sum of two numbers is {num1+num2}\")"
      ],
      "metadata": {
        "colab": {
          "base_uri": "https://localhost:8080/"
        },
        "id": "ePKRqSzXOhKV",
        "outputId": "e6362584-fac4-4756-b346-8369d5b4ecb9"
      },
      "execution_count": 7,
      "outputs": [
        {
          "output_type": "stream",
          "name": "stdout",
          "text": [
            "Enter first number : 12\n",
            "Enter Second number : 13\n",
            "The sum of two numbers is 25\n"
          ]
        }
      ]
    },
    {
      "cell_type": "markdown",
      "source": [
        "Q4 :Python program to take a sentence from user and print it capital letters"
      ],
      "metadata": {
        "id": "saGVacQAMMwS"
      }
    },
    {
      "cell_type": "code",
      "source": [
        "sentence = input(\"Enter a sentence\")\n",
        "print(f\"{sentence.upper()}\")"
      ],
      "metadata": {
        "colab": {
          "base_uri": "https://localhost:8080/"
        },
        "id": "SzUf3vLQP1cG",
        "outputId": "d423bd3a-ca52-4aaf-8cde-bb991b562a4b"
      },
      "execution_count": 9,
      "outputs": [
        {
          "output_type": "stream",
          "name": "stdout",
          "text": [
            "Enter a sentenceIndia is my country\n",
            "INDIA IS MY COUNTRY\n"
          ]
        }
      ]
    },
    {
      "cell_type": "markdown",
      "source": [
        "Q5: Python program to check wether a string is Palindrome or not"
      ],
      "metadata": {
        "id": "poTOUw6LVnVX"
      }
    },
    {
      "cell_type": "code",
      "source": [
        "def ispalindrome(s):\n",
        "  s = s.lower()\n",
        "  return s == s[::-1]\n",
        "# code \n",
        "s = input(\"Enter a string :\")\n",
        "res = ispalindrome(s)\n",
        "if res:\n",
        "  print(f\"{s} is palindrome\")\n",
        "else:\n",
        "  print(f\"{s} is not palindrome\")\n",
        "\n",
        "\n",
        " "
      ],
      "metadata": {
        "colab": {
          "base_uri": "https://localhost:8080/"
        },
        "id": "mTTYfb55VzgX",
        "outputId": "6a2b4767-4c2d-4e55-e09f-49eae5bff146"
      },
      "execution_count": 23,
      "outputs": [
        {
          "output_type": "stream",
          "name": "stdout",
          "text": [
            "Enter a string :Madras\n",
            "Madras is not palindrome\n"
          ]
        }
      ]
    },
    {
      "cell_type": "markdown",
      "source": [
        "Q6 : Python program to convert celsius to farenheit"
      ],
      "metadata": {
        "id": "yHwhGfETgk3_"
      }
    },
    {
      "cell_type": "code",
      "source": [
        "celsius = float(input(\"Eenter the temparture in celsius : \"))\n",
        "farenheit = celsius*1.8 +32\n",
        "print(f\"{celsius} degree celsius is {farenheit} f \")"
      ],
      "metadata": {
        "colab": {
          "base_uri": "https://localhost:8080/"
        },
        "id": "nILZVIJaXB_8",
        "outputId": "5d6e37fb-c6d5-4e1e-ec81-f953975f65d7"
      },
      "execution_count": 25,
      "outputs": [
        {
          "output_type": "stream",
          "name": "stdout",
          "text": [
            "Eenter the temparture in celsius : 37.5\n",
            "37.5 degree celsius is 99.5 f \n"
          ]
        }
      ]
    },
    {
      "cell_type": "markdown",
      "source": [
        "Q7 : Python program to check wether a number given by user is prime or not"
      ],
      "metadata": {
        "id": "Kecyk7N9hyI7"
      }
    },
    {
      "cell_type": "code",
      "source": [
        "num = int(input(\"Enter a number: \"))\n",
        "if num>1:\n",
        "  for i in range(2,num):\n",
        "    if (num%i)==0:\n",
        "      print(num,\" is not a prime number\")\n",
        "      break\n",
        "    else:\n",
        "      print(num,\" is a prime number\")\n",
        "else :\n",
        "  print(num,\"is neither prime nor composite\")\n"
      ],
      "metadata": {
        "colab": {
          "base_uri": "https://localhost:8080/"
        },
        "id": "VpGVDj3XiRbK",
        "outputId": "60bb95b7-829b-49b3-8108-c3a33c3bc483"
      },
      "execution_count": 56,
      "outputs": [
        {
          "output_type": "stream",
          "name": "stdout",
          "text": [
            "Enter a number: 1\n",
            "1 is neither prime nor composite\n"
          ]
        }
      ]
    }
  ]
}